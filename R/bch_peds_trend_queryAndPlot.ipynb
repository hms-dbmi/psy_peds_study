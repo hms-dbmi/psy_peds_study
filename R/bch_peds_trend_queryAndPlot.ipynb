{
 "cells": [
  {
   "cell_type": "markdown",
   "metadata": {},
   "source": [
    "## BCH pediatrics trends: query and plot\n",
    "This notebook includes the SQL code used to extract the information regarding pediatric patients with a mental ICD-10 code condition (the full list can be found here: https://github.com/hms-dbmi/psy_peds_trends/blob/main/data/pediatric%20psychiatric%20ICD-10%20codes_adjusted.csv).\n",
    "\n",
    "The inclusion criteria is:\n",
    "- inpatients\n",
    "- Sars-Cov-2 PCR  positive or negative (no filter by covid-19 condition, just PCR test done at BCH)\n",
    "- filtered by age (11-17)\n",
    "- 21st April 2020 - Up to date \n",
    "- The ICD-10 code from the list as Primary diagnosis (modifier → ICD:P) "
   ]
  },
  {
   "cell_type": "code",
   "execution_count": null,
   "metadata": {},
   "outputs": [],
   "source": [
    "#CREATE TABLE ag440_mental_health\n",
    "#AS SELECT obs.patient_num, obs.concept_cd, obs.start_date, pat.birth_date, floor(months_between(obs.start_date, pat.birth_date) / 12) as age, \n",
    "#         peds_codes.mental_health_disorder_group,  peds_codes.description, obs.modifier_cd, vis.inout_cd\n",
    "#FROM observation_fact obs\n",
    "#INNER JOIN patient_dimension pat ON obs.patient_num=pat.patient_num\n",
    "#INNER JOIN visit_dimension vis ON obs.encounter_num= vis.encounter_num\n",
    "#INNER JOIN ASE_PEDS_ICD_CODES peds_codes ON obs.concept_cd=peds_codes.ICD10_CODE\n",
    "#WHERE floor(months_between(obs.start_date, pat.birth_date) / 12) > 10 \n",
    "#      AND floor(months_between(obs.start_date, pat.birth_date) / 12) < 18 \n",
    "#      AND lower(vis.inout_cd) = 'inpatient';"
   ]
  },
  {
   "cell_type": "markdown",
   "metadata": {},
   "source": [
    "The output is a table that contains:\n",
    "- patient identifier\n",
    "- concept code (ICD-10 code)\n",
    "- start date (day-month-year, 30-SEP-20)\n",
    "- birth date (day-month-year, 30-SEP-03)\n",
    "- age (in years)\n",
    "- the mentah health disorder group (as described in the reference table)\n",
    "- the description of each diagnosis\n",
    "- modifier (ICD:P as primary diagnosis, ICD:S as secondary diagnosis if secondary diagnosis included)\n",
    "- inout_cd (that includes the information for that patient and time as inpatient in this case)"
   ]
  },
  {
   "cell_type": "markdown",
   "metadata": {},
   "source": [
    "### Barplot representation\n",
    "Using as input the previous table we generate a barplot representing the number of cases per week starting the 21st April 2021 up to date. "
   ]
  },
  {
   "cell_type": "code",
   "execution_count": null,
   "metadata": {},
   "outputs": [],
   "source": [
    "#load the libraries\n",
    "library(dplyr)\n",
    "library(ggplot2)\n",
    "library(RColorBrewer)"
   ]
  },
  {
   "cell_type": "code",
   "execution_count": null,
   "metadata": {},
   "outputs": [],
   "source": [
    "options(repr.plot.width = 18, repr.plot.height = 9)"
   ]
  },
  {
   "cell_type": "code",
   "execution_count": null,
   "metadata": {},
   "outputs": [],
   "source": [
    "theme_plots <- theme_bw() +\n",
    "  theme(axis.text.y = element_text(size=18), \n",
    "        axis.text.x = element_text(size=18,angle = 45, vjust = 1, hjust=1),\n",
    "        axis.title = element_text(size=20), \n",
    "        strip.text = element_text(size=20),\n",
    "        strip.text.y = element_text(angle = 0),\n",
    "        legend.text = element_text(size=16), \n",
    "        legend.title = element_text(size=16), \n",
    "        title = element_text(size=20), \n",
    "        plot.subtitle = element_text(face = \"italic\")) "
   ]
  },
  {
   "cell_type": "markdown",
   "metadata": {},
   "source": [
    "### Data Management"
   ]
  },
  {
   "cell_type": "code",
   "execution_count": null,
   "metadata": {},
   "outputs": [],
   "source": [
    "#read the file with the dataset\n",
    "output <- read.delim(\"mentalHealthPrimary.tsv\")\n",
    "\n",
    "# filter by date, to include only those starting the 21st April 2021\n",
    "output$date <- sapply(strsplit( output$START_DATE, \" \"), '[', 1)\n",
    "output$date <- as.Date( output$date, \"%d/%m/%y\")\n",
    "\n",
    "# breaks by week\n",
    "output$weeks <- cut(output[,\"date\"], breaks=\"week\")\n",
    "output$year <-sapply(strsplit( as.character(output$weeks), \"-\"), '[', 1) \n",
    "output <- output[ output$date > \"2020-04-21\",]\n",
    "output$period <- \"post\"\n",
    "\n",
    "# all variables to lowercase\n",
    "names(output) <- tolower(names(output))\n",
    "names(output)[names(output) == \"mental_health_disorder_group\"] <- \"category\"\n",
    "output$age_cat <- as.factor(ifelse(output$age >= 11, \"11-17\", \"6-10\"))"
   ]
  },
  {
   "cell_type": "markdown",
   "metadata": {},
   "source": [
    "## Patients count per week"
   ]
  },
  {
   "cell_type": "code",
   "execution_count": null,
   "metadata": {},
   "outputs": [],
   "source": [
    "#select the patient identifier and the week and remove potential duplicates \n",
    "subset <- unique(output[ , c(\"patient_num\", \"weeks\")])\n",
    "print(paste(\"Number of unique patients seen per week: \", length(unique(subset$patient_num))))\n",
    "summary(subset$week)"
   ]
  },
  {
   "cell_type": "markdown",
   "metadata": {},
   "source": [
    "# Weekly patient counts with mental health related ICD codes plots"
   ]
  },
  {
   "cell_type": "markdown",
   "metadata": {},
   "source": [
    "### Overall"
   ]
  },
  {
   "cell_type": "code",
   "execution_count": null,
   "metadata": {},
   "outputs": [],
   "source": [
    "#estimate the number of patients per week\n",
    "output[, c(\"patient_num\", \"weeks\")] %>%\n",
    "  unique() %>%\n",
    "  group_by(weeks) %>%\n",
    "  tally() %>%\n",
    "  ggplot(aes(x = as.Date(weeks), y = n, fill = \"Patients count\")) +\n",
    "  geom_bar(stat=\"identity\")+\n",
    "  labs(y = \"Counts\",\n",
    "       x = \"Week\",\n",
    "       title = \"Weekly patient counts with mental health related ICD codes\",\n",
    "       subtitle = \"BCH - Inpatient and outpatients, primary and secondary diagnoses, 6-17 age group\") + \n",
    "  theme_plots +\n",
    "  theme(legend.position = \"none\") + \n",
    "  scale_fill_brewer(palette = \"Dark2\") +\n",
    "  geom_smooth(method = \"lm\", formula = y ~ splines::ns(x, 2), se = TRUE, aes(colour=period), colour= \"black\", size = 0.5)\n",
    "ggsave(\"../export/overall_weekly_count.png\", width = 18, height = 9, units=\"in\")"
   ]
  },
  {
   "cell_type": "markdown",
   "metadata": {},
   "source": [
    "### Subsetting inpatients and 11-17 age group, primary and secondary diagnosis"
   ]
  },
  {
   "cell_type": "code",
   "execution_count": null,
   "metadata": {},
   "outputs": [],
   "source": [
    "output[output$age_cat == \"11-17\" & output$inout_cd == \"Inpatient\", c(\"patient_num\", \"weeks\")] %>%\n",
    "  unique() %>%\n",
    "  group_by(weeks) %>%\n",
    "  tally() %>%\n",
    "  ggplot(aes(x = as.Date(weeks), y = n, fill = \"Patients count\")) +\n",
    "  geom_bar(stat=\"identity\")+\n",
    "  labs(y = \"Counts\",\n",
    "       x = \"Week\",\n",
    "       title = \"Weekly patient counts with mental health related ICD codes\",\n",
    "       subtitle = \"BCH - Inpatients, primary and secondary diagnosis, 11-17 age group\") + \n",
    "  theme_plots +\n",
    "  theme(legend.position = \"none\") + \n",
    "  scale_fill_manual(values=c('#00BFC4'))+\n",
    "  geom_smooth(method = \"lm\", formula = y ~ splines::ns(x, 2), se = TRUE, aes(colour=period), colour= \"black\", size = 0.5)\n",
    "\n",
    "ggsave(\"../export/inpatients_primary_secondary_teens_count.png\", width = 18, height = 9, units=\"in\")"
   ]
  },
  {
   "cell_type": "markdown",
   "metadata": {},
   "source": [
    "#### By ICD subgroup category"
   ]
  },
  {
   "cell_type": "code",
   "execution_count": null,
   "metadata": {},
   "outputs": [],
   "source": [
    "output[output$inout_cd == \"Inpatient\" & output$age_cat == \"11-17\" ,c(\"patient_num\", \"weeks\", \"category\")] %>%\n",
    "  unique() %>%\n",
    "  group_by(weeks, category) %>% tally() %>%\n",
    "  ggplot(aes(x = as.Date(weeks), y= n, fill = \"\", group = category )) +\n",
    "  geom_bar(stat = \"identity\")+\n",
    "  labs(x = \"Week\",\n",
    "       y = \"Counts\",\n",
    "       title = \"Patient counts with mental health related ICD codes: grouped per ICD subcategories\", \n",
    "       subtitle = \"BCH - 11-17 age group, primary and secondary diagnoses, inpatients only\") + \n",
    "  scale_fill_manual(values=c('#00BFC4'))+\n",
    "  geom_smooth(method = \"lm\", formula = y ~ splines::ns(x, 2), se= TRUE, aes(colour=period), colour= \"black\", size = 0.5) + \n",
    "  ylim(0, NA) + \n",
    "  facet_wrap(. ~ category, scales = \"free_y\") +\n",
    "  theme_plots + \n",
    "  theme(strip.text.x = element_text(size = 8),\n",
    "        axis.text.x = element_text(size = 12), \n",
    "        legend.position = \"none\")\n",
    "ggsave(\"../export/categorical_counts_inpatient_teens.png\", width = 18, height = 9, units=\"in\")"
   ]
  },
  {
   "cell_type": "markdown",
   "metadata": {},
   "source": [
    "### Subsetting to primary diagnosis, inpatients and 11-17 age group"
   ]
  },
  {
   "cell_type": "code",
   "execution_count": null,
   "metadata": {},
   "outputs": [],
   "source": [
    "#estimate the number of patients per week\n",
    "output[output$age_cat == \"11-17\" & output$modifier_cd == \"ICD:P\" & output$inout_cd == \"Inpatient\", c(\"patient_num\", \"weeks\")] %>%\n",
    "  unique() %>%\n",
    "  group_by(weeks) %>%\n",
    "  tally() %>%\n",
    "  ggplot(aes(x = as.Date(weeks), y = n, fill = \"Patients count\")) +\n",
    "  geom_bar(stat=\"identity\")+\n",
    "  labs(y = \"Counts\",\n",
    "       x = \"Week\",\n",
    "       title = \"Weekly patient counts with mental health related ICD codes\",\n",
    "       subtitle = \"BCH - Inpatients, primary diagnosis, 11-17 age group\") + \n",
    "  theme_plots +\n",
    "  theme(legend.position = \"none\") + \n",
    "  scale_fill_brewer(palette = \"Dark2\") +\n",
    "  geom_smooth(method = \"lm\", formula = y ~ splines::ns(x, 2), se = TRUE, aes(colour=period), colour= \"black\", size = 0.5)\n",
    "ggsave(\"../export/inpatients_primary_teens_count.png\", width = 18, height = 9, units=\"in\")"
   ]
  },
  {
   "cell_type": "markdown",
   "metadata": {},
   "source": [
    "#### By ICD subgroup category"
   ]
  },
  {
   "cell_type": "code",
   "execution_count": null,
   "metadata": {},
   "outputs": [],
   "source": [
    "output[output$inout_cd == \"Inpatient\" & output$modifier_cd == \"ICD:P\" & output$age_cat == \"11-17\" ,c(\"patient_num\", \"weeks\", \"category\")] %>%\n",
    " unique() %>%\n",
    " group_by(weeks, category) %>% tally() %>%\n",
    "ggplot(aes(x = as.Date(weeks), y= n, fill = \"\", group = category )) +\n",
    "  geom_bar(stat = \"identity\")+\n",
    "  labs(x = \"Week\",\n",
    "       y = \"Counts\",\n",
    "       title = \"Patient counts with mental health related ICD codes: grouped per ICD subcategories\", \n",
    "       subtitle = \"BCH - 11-17 age group, primary diagnoses, inpatients only\") + \n",
    "  scale_fill_brewer(palette = \"Dark2\") +\n",
    "  geom_smooth(method = \"lm\", formula = y ~ splines::ns(x, 2), se= TRUE, aes(colour=period), colour= \"black\", size = 0.5) + \n",
    "  ylim(0, NA) + \n",
    "  facet_wrap(. ~ category, scales = \"free_y\") +\n",
    "  theme_plots + \n",
    "  theme(strip.text.x = element_text(size = 8),\n",
    "        axis.text.x = element_text(size = 12), \n",
    "       legend.position = \"none\")\n",
    "ggsave(\"../export/categorical_counts_inpatient_teens.png\", width = 18, height = 9, units=\"in\")"
   ]
  },
  {
   "cell_type": "markdown",
   "metadata": {},
   "source": [
    "### By ICD subgroup categories"
   ]
  },
  {
   "cell_type": "code",
   "execution_count": null,
   "metadata": {},
   "outputs": [],
   "source": [
    "#### by group category\n",
    "output[ ,c(\"patient_num\", \"weeks\", \"category\")] %>%\n",
    " unique() %>%\n",
    " group_by(weeks, category) %>% tally() %>%\n",
    "ggplot(aes(x = as.Date(weeks), y= n, fill = \"\", group = category )) +\n",
    "  geom_bar(stat = \"identity\")+\n",
    "  labs(x = \"Week\",\n",
    "       y = \"Counts\",\n",
    "       title = \"Patient counts with mental health related ICD codes: grouped per ICD subcategories\", \n",
    "       subtitle = \"BCH - 6-17 age group, primary and secondary diagnoses, inpatients only\") + \n",
    "  scale_fill_brewer(palette = \"Dark2\") +\n",
    "  geom_smooth(method = \"lm\", formula = y ~ splines::ns(x, 2), se= TRUE, aes(colour=period), colour= \"black\", size = 0.5)+ \n",
    "  facet_wrap(. ~ category, scales = \"free_y\")+\n",
    "  theme_plots + \n",
    "  theme(strip.text.x = element_text(size = 8),\n",
    "        axis.text.x = element_text(size = 12), \n",
    "       legend.position = \"none\")\n",
    "ggsave(\"../export/categorical_counts.png\", width = 18, height = 9, units=\"in\")"
   ]
  },
  {
   "cell_type": "markdown",
   "metadata": {},
   "source": [
    "### Inpatient/outpatients and age group trends comparisons"
   ]
  },
  {
   "cell_type": "code",
   "execution_count": null,
   "metadata": {},
   "outputs": [],
   "source": [
    "#represent it as a barplot\n",
    "unique(output[ , c(\"patient_num\", \"weeks\", \"age_cat\", \"inout_cd\")]) %>%\n",
    "group_by(weeks, age_cat, inout_cd) %>%\n",
    "tally() %>%\n",
    "ggplot(aes(x= as.Date(weeks), y=n, fill=age_cat)) +\n",
    "  geom_bar(position=\"dodge\", stat=\"identity\")+\n",
    "  ylab(\"Counts\") + \n",
    "  xlab(\"Week\") +\n",
    "  facet_grid(\"age_cat ~ inout_cd\", scales=\"free_y\") +\n",
    "  theme_plots +\n",
    "  scale_fill_brewer(palette=\"Paired\") +\n",
    "  labs(title = \"Patient counts with mental health related ICD codes: age comparison\",\n",
    "       subtitle = \"(BCH) - Primary and secondary diagnoses\") +\n",
    "  geom_smooth(method = \"lm\", formula = y ~ splines::ns(x, 2), colour=\"black\", se= TRUE, size = 0.5)\n",
    "ggsave(\"../export/age_inoutpatients_comparison.png\", width = 18, height = 9, units=\"in\")"
   ]
  },
  {
   "cell_type": "markdown",
   "metadata": {},
   "source": [
    "### Inpatient weekly count, 11-17 age group"
   ]
  },
  {
   "cell_type": "code",
   "execution_count": null,
   "metadata": {},
   "outputs": [],
   "source": [
    "output[output$inout_cd == \"Inpatient\" , c(\"patient_num\", \"weeks\", \"age_cat\")] %>%\n",
    "unique() %>%\n",
    "group_by(weeks, age_cat) %>%\n",
    "tally() %>%\n",
    "ggplot(aes(x= as.Date(weeks), y=n, fill=age_cat)) +\n",
    "  geom_bar(position=\"dodge\", stat=\"identity\") +\n",
    "  labs(title = \"Weekly patient counts with mental health related ICD codes: age comparison\", \n",
    "       subtitle = \"BCH - Primary and secondary diagnoses, inpatients only\", \n",
    "       fill = \"Age\", \n",
    "       x = \"Counts\", \n",
    "       y = \"Week\") +\n",
    "  facet_grid(\"age_cat ~ . \", scales = \"free_y\") +\n",
    "  theme_plots +\n",
    "  scale_fill_brewer(palette = \"Paired\") +\n",
    "  geom_smooth(method = \"lm\", formula = y ~ splines::ns(x, 2), colour=\"black\", se= TRUE, size = 0.5)\n",
    "ggsave(\"../export/age_inpatients_comparison.png\", width = 18, height = 9, units=\"in\")"
   ]
  },
  {
   "cell_type": "markdown",
   "metadata": {},
   "source": [
    "### Inpatient weekly count, 6-10 age group"
   ]
  },
  {
   "cell_type": "code",
   "execution_count": null,
   "metadata": {},
   "outputs": [],
   "source": [
    "#represent it as a barplot\n",
    "output[output$inout_cd == \"Outpatient\" , c(\"patient_num\", \"weeks\", \"age_cat\")] %>%\n",
    "unique() %>%\n",
    "group_by(weeks, age_cat) %>%\n",
    "tally() %>%\n",
    "ggplot(aes(x= as.Date(weeks), y=n, fill=age_cat)) +\n",
    "  geom_bar(position=\"dodge\", stat=\"identity\")+\n",
    "  labs(y = \"Counts\",  \n",
    "       x = \"Week\",\n",
    "       title = \"Weekly patient counts with mental health related ICD codes: age comparison\", \n",
    "       subtitle = \"BCH - Primary and secondary diagnoses, outpatients only\", \n",
    "       fill = \"Age\") +\n",
    "  facet_grid(\"age_cat ~ . \", scales=\"free_y\") +\n",
    "  theme_plots +\n",
    "  scale_fill_brewer(palette=\"Paired\") +\n",
    "  geom_smooth(method = \"lm\", formula = y ~ splines::ns(x, 2), colour=\"black\", se= TRUE, size = 0.5)\n",
    "ggsave(\"../export/age_outpatients_comparison.png\", width = 18, height = 9, units=\"in\")"
   ]
  },
  {
   "cell_type": "markdown",
   "metadata": {},
   "source": [
    "### ICD subcategories weekly count, inpatient in 11-17 age group"
   ]
  },
  {
   "cell_type": "code",
   "execution_count": null,
   "metadata": {},
   "outputs": [],
   "source": [
    "#represent it as a barplot\n",
    "output %>% \n",
    "filter(age_cat == \"11-17\",\n",
    "       inout_cd == \"Inpatient\") %>%\n",
    "select(patient_num, weeks, category) %>%\n",
    "unique() %>%\n",
    "group_by(weeks, category) %>%\n",
    "tally() %>%\n",
    "ggplot(aes(x= as.Date(weeks), y=n, fill=\"age\")) +\n",
    "  geom_bar(position=\"dodge\", stat=\"identity\")+\n",
    "  facet_wrap(\"category\", scales=\"free_y\") +\n",
    "  labs(title = \"Weekly patient counts with mental health related ICD codes: grouped per ICD subcategories\", \n",
    "       subtitle = \"BCH - 11-17 age group, primary and secondary diagnoses, inpatients only\", \n",
    "       y = \"Counts\", \n",
    "       x = \"Week\") +\n",
    "  theme_plots + \n",
    "  theme(legend.position = \"none\", \n",
    "       strip.text.x = element_text(size = 8)) +\n",
    "  geom_smooth(method = \"lm\", formula = y ~ splines::ns(x, 2), colour=\"black\", se= TRUE, size = 0.5) +\n",
    "  scale_fill_manual(values = brewer.pal(3, \"Paired\")[2])\n",
    "ggsave(\"../export/inpatient_subcategories_teens.png\", width = 18, height = 9, units=\"in\")"
   ]
  },
  {
   "cell_type": "code",
   "execution_count": null,
   "metadata": {},
   "outputs": [],
   "source": [
    "#represent it as a barplot\n",
    "output %>% \n",
    "filter(age_cat == \"11-17\") %>%\n",
    "select(patient_num, weeks, category) %>%\n",
    "unique() %>%\n",
    "group_by(weeks, category) %>%\n",
    "tally() %>%\n",
    "ggplot(aes(x= as.Date(weeks), y=n, fill=\"age\")) +\n",
    "  geom_bar(position=\"dodge\", stat=\"identity\")+\n",
    "  facet_wrap(\"category\", scales=\"free_y\") +\n",
    "  labs(title = \"Weekly patient counts with mental health related ICD codes: grouped per ICD subcategories\", \n",
    "       subtitle = \"BCH - 11-17 age group, primary and secondary diagnoses, inpatients and outpatients\", \n",
    "       y = \"Counts\", \n",
    "       x = \"Week\") +\n",
    "  theme_plots + \n",
    "  theme(legend.position = \"none\", \n",
    "       strip.text.x = element_text(size = 8)) +\n",
    "  geom_smooth(method = \"lm\", formula = y ~ splines::ns(x, 2), colour=\"black\", se= TRUE, size = 0.5) +\n",
    "  scale_fill_manual(values = brewer.pal(3, \"Paired\")[2])\n",
    "ggsave(\"../export/subcategories_teens.png\", width = 18, height = 9, units=\"in\")"
   ]
  },
  {
   "cell_type": "markdown",
   "metadata": {},
   "source": [
    "### ICD subcategories weekly count, inpatient in 6-10 age group"
   ]
  },
  {
   "cell_type": "code",
   "execution_count": null,
   "metadata": {},
   "outputs": [],
   "source": [
    "output %>% \n",
    "filter(age_cat == \"6-10\",\n",
    "       inout_cd == \"Inpatient\") %>%\n",
    "select(patient_num, weeks, category) %>%\n",
    "unique() %>%\n",
    "group_by(weeks, category) %>%\n",
    "tally() %>%\n",
    "ggplot(aes(x= as.Date(weeks), y=n, fill=\"age\")) +\n",
    "  geom_bar(position=\"dodge\", stat=\"identity\")+\n",
    "  facet_wrap(\"category\", scales=\"free_y\") +\n",
    "  labs(ttitle = \"Weekly patient counts with mental health related ICD codes: grouped per ICD subcategories\", \n",
    "       subtitle = \"BCH - 6-10 age group, primary and secondary diagnoses, inpatients only\", \n",
    "       y = \"Counts\", \n",
    "       x = \"Week\") +\n",
    "  theme_plots + \n",
    "  theme(legend.position = \"none\", \n",
    "       strip.text.x = element_text(size = 8)) +\n",
    "  geom_smooth(method = \"lm\", formula = y ~ splines::ns(x, 2), colour=\"black\", se= TRUE, size = 0.5) +\n",
    "  scale_fill_manual(values = brewer.pal(3, \"Paired\")[1])\n",
    "ggsave(\"../export/inpatient_subcategories_kids.png\", width = 18, height = 9, units=\"in\")"
   ]
  },
  {
   "cell_type": "code",
   "execution_count": null,
   "metadata": {},
   "outputs": [],
   "source": [
    "output %>% \n",
    "filter(age_cat == \"6-10\") %>%\n",
    "select(patient_num, weeks, category) %>%\n",
    "unique() %>%\n",
    "group_by(weeks, category) %>%\n",
    "tally() %>%\n",
    "ggplot(aes(x= as.Date(weeks), y=n, fill=\"age\")) +\n",
    "  geom_bar(position=\"dodge\", stat=\"identity\")+\n",
    "  facet_wrap(\"category\", scales=\"free_y\") +\n",
    "  labs(ttitle = \"Weekly patient counts with mental health related ICD codes: grouped per ICD subcategories\", \n",
    "       subtitle = \"BCH - 6-10 age group, primary and secondary diagnoses, inpatients and outpatients\", \n",
    "       y = \"Counts\", \n",
    "       x = \"Week\") +\n",
    "  theme_plots + \n",
    "  theme(legend.position = \"none\", \n",
    "       strip.text.x = element_text(size = 8)) +\n",
    "  geom_smooth(method = \"lm\", formula = y ~ splines::ns(x, 2), colour=\"black\", se= TRUE, size = 0.5) +\n",
    "  scale_fill_manual(values = brewer.pal(3, \"Paired\")[1])\n",
    "ggsave(\"../export/subcategories_kids.png\", width = 18, height = 9, units=\"in\")"
   ]
  },
  {
   "cell_type": "markdown",
   "metadata": {},
   "source": [
    "### Primary vs secondary diagnosis comparison\n",
    "\n",
    "#### Inpatients 11-17 years old"
   ]
  },
  {
   "cell_type": "code",
   "execution_count": null,
   "metadata": {},
   "outputs": [],
   "source": [
    "output %>% \n",
    "  filter(age_cat == \"11-17\",\n",
    "         inout_cd == \"Inpatient\") %>% \n",
    "  select(patient_num, weeks, modifier_cd) %>%\n",
    "  mutate(modifier_cd = recode(modifier_cd, \"ICD:P\" = \"Primary Diagnosis\", \"ICD:S\" = \"Secondary Diagnosis\")) %>%\n",
    "  unique() %>%\n",
    "  group_by(weeks, modifier_cd) %>%\n",
    "  tally() %>%\n",
    "  ggplot(aes(x= as.Date(weeks), y=n, fill=modifier_cd)) +\n",
    "  geom_bar(position=\"dodge\", stat=\"identity\")+\n",
    "  ylab(\"counts\") + \n",
    "  xlab(\"Week\") +\n",
    "  facet_grid(\". ~ modifier_cd \", scales=\"free_y\") +\n",
    "  labs(title = \"Patient counts with mental health ICD codes: primary and secondary outcomes comparison\", \n",
    "       subtitle = \"BCH - 11-17 age group, inpatients\", \n",
    "       y = \"Counts\", \n",
    "       x = \"Week\") +\n",
    "  theme_plots + \n",
    "  theme(legend.position = \"none\") +\n",
    "  scale_fill_brewer(palette=\"Set2\") +\n",
    "  geom_smooth(method = \"lm\", formula = y ~ splines::ns(x, 2), colour=\"black\", se= TRUE, size = 0.5)\n",
    "ggsave(\"./primary_secondary_diagnoses_comparison.png\", width = 18, height = 9, units=\"in\")"
   ]
  },
  {
   "cell_type": "markdown",
   "metadata": {},
   "source": [
    "#### Inpatients and outpatients 6-17 years old"
   ]
  },
  {
   "cell_type": "code",
   "execution_count": null,
   "metadata": {},
   "outputs": [],
   "source": [
    "output %>% \n",
    "select(patient_num, weeks, modifier_cd) %>%\n",
    "mutate(modifier_cd = recode(modifier_cd, \"ICD:P\" = \"Primary Diagnosis\", \"ICD:S\" = \"Secondary Diagnosis\")) %>%\n",
    "unique() %>%\n",
    "group_by(weeks, modifier_cd) %>%\n",
    "tally() %>%\n",
    "ggplot(aes(x= as.Date(weeks), y=n, fill=modifier_cd)) +\n",
    "  geom_bar(position=\"dodge\", stat=\"identity\")+\n",
    "  ylab(\"counts\") + \n",
    "  xlab(\"Week\") +\n",
    "  facet_grid(\". ~ modifier_cd \", scales=\"free_y\") +\n",
    "  labs(title = \"Patient counts with mental health ICD codes: primary and secondary outcomes comparison\", \n",
    "       subtitle = \"BCH - 6-17 age group, in and outpatients\", \n",
    "       y = \"Counts\", \n",
    "       x = \"Week\") +\n",
    "  theme_plots + \n",
    "  theme(legend.position = \"none\") +\n",
    "  scale_fill_brewer(palette=\"Set2\") +\n",
    "  geom_smooth(method = \"lm\", formula = y ~ splines::ns(x, 2), colour=\"black\", se= TRUE, size = 0.5)\n",
    "ggsave(\"../export/primary_secondary_diagnoses_comparison.png\", width = 18, height = 9, units=\"in\")"
   ]
  },
  {
   "cell_type": "code",
   "execution_count": null,
   "metadata": {},
   "outputs": [],
   "source": []
  }
 ],
 "metadata": {
  "kernelspec": {
   "display_name": "R",
   "language": "R",
   "name": "ir"
  },
  "language_info": {
   "codemirror_mode": "r",
   "file_extension": ".r",
   "mimetype": "text/x-r-source",
   "name": "R",
   "pygments_lexer": "r",
   "version": "4.0.2"
  }
 },
 "nbformat": 4,
 "nbformat_minor": 4
}
