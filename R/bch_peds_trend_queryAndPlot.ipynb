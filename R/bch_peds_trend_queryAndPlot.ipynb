{
 "cells": [
  {
   "cell_type": "markdown",
   "metadata": {},
   "source": [
    "## BCH pediatrics trends: query and plot\n",
    "This notebook includes the SQL code used to extract the information regarding pediatric patients with a mental ICD-10 code condition (the full list can be found here: https://github.com/hms-dbmi/psy_peds_trends/blob/main/data/pediatric%20psychiatric%20ICD-10%20codes_adjusted.csv).\n",
    "\n",
    "The inclusion criteria is:\n",
    "- inpatients\n",
    "- Sars-Cov-2 PCR  positive or negative (no filter by covid-19 condition, just PCR test done at BCH)\n",
    "- filtered by age (11-17)\n",
    "- 21st April 2020 - Up to date \n",
    "- The ICD-10 code from the list as Primary diagnosis (modifier → ICD:P) "
   ]
  },
  {
   "cell_type": "code",
   "execution_count": null,
   "metadata": {},
   "outputs": [],
   "source": [
    "#CREATE TABLE ag440_mental_health_primary\n",
    "#AS SELECT obs.patient_num, obs.concept_cd, obs.start_date, pat.birth_date, floor(months_between(obs.start_date, pat.birth_date) / 12) as age, \n",
    "#         peds_codes.mental_health_disorder_group,  peds_codes.description, obs.modifier_cd, vis.inout_cd\n",
    "#FROM observation_fact obs\n",
    "#INNER JOIN patient_dimension pat ON obs.patient_num=pat.patient_num\n",
    "#INNER JOIN visit_dimension vis ON obs.encounter_num= vis.encounter_num\n",
    "#INNER JOIN ASE_PEDS_ICD_CODES peds_codes ON obs.concept_cd=peds_codes.ICD10_CODE\n",
    "#WHERE floor(months_between(obs.start_date, pat.birth_date) / 12) > 10 \n",
    "#      AND floor(months_between(obs.start_date, pat.birth_date) / 12) < 18 \n",
    "#      AND lower(vis.inout_cd) = 'inpatient' \n",
    "#      AND obs.modifier_cd = 'ICD:P';"
   ]
  },
  {
   "cell_type": "markdown",
   "metadata": {},
   "source": [
    "The output is a table that contains:\n",
    "- patient identifier\n",
    "- concept code (ICD-10 code)\n",
    "- start date (day-month-year, 30-SEP-20)\n",
    "- birth date (day-month-year, 30-SEP-03)\n",
    "- age (in years)\n",
    "- the mentah health disorder group (as described in the reference table)\n",
    "- the description of each diagnosis\n",
    "- modifier (ICD:P as primary diagnosis, ICD:S as secondary diagnosis if secondary diagnosis included)\n",
    "- inout_cd (that includes the information for that patient and time as inpatient in this case)"
   ]
  },
  {
   "cell_type": "markdown",
   "metadata": {},
   "source": [
    "### Barplot representation\n",
    "Using as input the previous table we generate a barplot representing the number of cases per week starting the 21st April 2021 up to date. "
   ]
  },
  {
   "cell_type": "code",
   "execution_count": null,
   "metadata": {},
   "outputs": [],
   "source": [
    "#read the file with the dataset\n",
    "output <- read.delim(\"mentalHealthPrimary.dsv\")"
   ]
  },
  {
   "cell_type": "code",
   "execution_count": null,
   "metadata": {},
   "outputs": [],
   "source": [
    "# filter by date, to include only those starting the 21st April 2021\n",
    "output$date <- sapply(strsplit( output$START_DATE, \" \"), '[', 1)\n",
    "output$date <- as.Date( output$date, \"%d-%B-%y\")\n",
    "output <- output[ output$date > \"2020-04-21\",]\n",
    "\n",
    "#breaks by week\n",
    "output$weeks <- cut(output[,\"date\"], breaks=\"week\")\n",
    "\n",
    "#select the patient identifier and the week and remove potential duplicates \n",
    "subset <- unique(output[ , c(\"PATIENT_NUM\", \"weeks\")])\n",
    "length(unique(subset$PATIENT_NUM))\n",
    "summary( subset$weeks )"
   ]
  },
  {
   "cell_type": "code",
   "execution_count": null,
   "metadata": {},
   "outputs": [],
   "source": [
    "#load the libraries\n",
    "library(dplyr)\n",
    "library(ggplot2)\n",
    "\n",
    "#estimate the number of patieents per week\n",
    "byWeek <- subset %>% group_by(weeks) %>% tally()\n",
    "byWeek$year <-sapply(strsplit( as.character(byWeek$weeks), \"-\"), '[', 1) \n",
    "byWeek$period <- \"post\"\n",
    "\n",
    "#represent it as a barplot\n",
    "ggplot(data= byWeek, aes(x= as.Date(weeks), y= n, fill= period )) +\n",
    "  geom_bar(stat=\"identity\")+\n",
    "  ylab(\"counts\") + xlab(\"Week\")+ theme_bw()+\n",
    "  geom_smooth(method = \"lm\", se= TRUE, aes(colour=period), colour= \"blue\", size = 0.5)+ \n",
    "  scale_fill_manual(values=c('#00BFC4', '#F8766D'))"
   ]
  },
  {
   "cell_type": "markdown",
   "metadata": {},
   "source": [
    "We can also visualize the trends for specific menth health disorders groups."
   ]
  },
  {
   "cell_type": "code",
   "execution_count": null,
   "metadata": {},
   "outputs": [],
   "source": [
    "#### by group category\n",
    "subsetByCategory <- unique(output[ , c(\"PATIENT_NUM\", \"weeks\", \"MENTAL_HEALTH_DISORDER_GROUP\")])\n",
    "colnames( subsetByCategory ) <- c(\"patient_num\", \"weeks\", \"category\")\n",
    "byWeekCategory <- subsetByCategory %>% group_by(weeks, category) %>% tally()\n",
    "byWeekCategory$period <- \"post\"\n",
    "ggplot(data= byWeekCategory, aes(x= as.Date(weeks), y= n, fill= period, group=category )) +\n",
    "  geom_bar(stat=\"identity\")+\n",
    "  ylab(\"counts\") + xlab(\"Week\")+ theme_bw()+\n",
    "  geom_smooth(method = \"lm\", se= TRUE, aes(colour=period), colour= \"blue\", size = 0.5)+ \n",
    "  scale_fill_manual(values=c('#00BFC4', '#F8766D'))+\n",
    "  facet_grid(. ~ category)\n"
   ]
  },
  {
   "cell_type": "code",
   "execution_count": null,
   "metadata": {},
   "outputs": [],
   "source": [
    "selection <- byWeekCategory[ byWeekCategory$category %in% \n",
    "                               c(\"Anxiety Disorders\", \"Depressive Disorders\",\n",
    "                                 \"Suicide or Self-Injury\", \n",
    "                                 \"Obsessive-Compulsive and Related Disorders\", \n",
    "                                 \"Substance-Related and Addictive Disorders\", \"Feeding and Eating Disorders\"), ]\n",
    "\n",
    "\n",
    "selection%>% ggplot() +\n",
    "  geom_line(aes(x = as.Date(weeks), y = n,  group=category), color = \"steelblue\", size=0.5)+\n",
    "  scale_x_date(name = \"\", \n",
    "               breaks = seq.Date(as.Date(\"2020-04-20\"), \n",
    "                                 as.Date(\"2021-04-12\"), by = \"1 week\"), \n",
    "               date_labels = \"%b-%U\")+ \n",
    "  scale_y_continuous(name = \"number patients\")+ \n",
    "  facet_wrap(facets = \"category\", scales = \"free\",\n",
    "             labeller = label_wrap_gen(width=40)) +\n",
    "  labs(x = \"calendar weeks\", y = \"number patients consulting for condition\")+\n",
    "  theme_bw()+\n",
    "  theme(strip.text.x = element_text(size = 7), text = element_text(size=5), \n",
    "        axis.text.x = element_text(angle = 45, vjust = 1, hjust=1))"
   ]
  },
  {
   "cell_type": "code",
   "execution_count": null,
   "metadata": {},
   "outputs": [],
   "source": [
    "### bars\n",
    "selection %>% ggplot(aes(x = as.Date(weeks), y = n)) +\n",
    "  geom_bar( stat= 'identity', fill= 'steelblue')+\n",
    "  scale_x_date(name = \"\", \n",
    "               breaks = seq.Date(as.Date(\"2020-04-20\"), \n",
    "                                 as.Date(\"2021-04-12\"), by = \"1 week\"), \n",
    "               date_labels = \"%b-%U\")+ \n",
    "  scale_y_continuous(name = \"number patients\")+ \n",
    "  facet_wrap(facets = \"category\", scales = \"free\",\n",
    "             labeller = label_wrap_gen(width=40)) +\n",
    "  labs(x = \"calendar weeks\", y = \"number patients consulting for condition\")+\n",
    "  theme_bw()+\n",
    "  theme(strip.text.x = element_text(size = 7), text = element_text(size=5), \n",
    "        axis.text.x = element_text(angle = 45, vjust = 1, hjust=1))\n",
    "\n"
   ]
  },
  {
   "cell_type": "code",
   "execution_count": null,
   "metadata": {},
   "outputs": [],
   "source": [
    "sessionInfo()"
   ]
  }
 ],
 "metadata": {
  "kernelspec": {
   "display_name": "R",
   "language": "R",
   "name": "ir"
  },
  "language_info": {
   "codemirror_mode": "r",
   "file_extension": ".r",
   "mimetype": "text/x-r-source",
   "name": "R",
   "pygments_lexer": "r",
   "version": "4.0.2"
  }
 },
 "nbformat": 4,
 "nbformat_minor": 4
}
